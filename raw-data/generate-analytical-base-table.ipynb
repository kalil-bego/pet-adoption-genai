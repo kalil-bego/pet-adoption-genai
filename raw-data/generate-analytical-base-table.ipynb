{
 "cells": [
  {
   "cell_type": "code",
   "execution_count": null,
   "id": "cb723498",
   "metadata": {},
   "outputs": [],
   "source": [
    "import pandas as pd"
   ]
  },
  {
   "cell_type": "code",
   "execution_count": null,
   "id": "5687bbf3",
   "metadata": {},
   "outputs": [],
   "source": [
    "adopters_df = pd.read_csv('adotantes.csv')\n",
    "pet_df = pd.read_csv('pets.csv')"
   ]
  },
  {
   "cell_type": "code",
   "execution_count": null,
   "id": "c955e756",
   "metadata": {},
   "outputs": [],
   "source": [
    "pet_df['pet_index'] = pd.factorize(pet_df['id'])[0]\n",
    "adopters_df['adotante_index'] = pd.factorize(adopters_df['id'])[0]"
   ]
  },
  {
   "cell_type": "code",
   "execution_count": null,
   "id": "19acd019",
   "metadata": {},
   "outputs": [],
   "source": [
    "df_combo = pet_df.assign(key=1).merge(adopters_df.assign(key=1), on='key').drop(columns=['key'])"
   ]
  },
  {
   "cell_type": "code",
   "execution_count": null,
   "id": "cd94e56d",
   "metadata": {},
   "outputs": [],
   "source": [
    "df_combo.drop(columns=['id_x', 'id_y'], inplace=True)"
   ]
  },
  {
   "cell_type": "code",
   "execution_count": null,
   "id": "65dd5e27",
   "metadata": {},
   "outputs": [],
   "source": [
    "df_combo.to_csv('../analytical-base-table.csv', index=False, encoding='utf-8-sig')"
   ]
  },
  {
   "cell_type": "code",
   "execution_count": null,
   "id": "b48a11de",
   "metadata": {},
   "outputs": [],
   "source": [
    "df_combo.columns.tolist()"
   ]
  },
  {
   "cell_type": "code",
   "execution_count": null,
   "id": "3ad2955d",
   "metadata": {},
   "outputs": [],
   "source": []
  }
 ],
 "metadata": {
  "kernelspec": {
   "display_name": "pet-adoption",
   "language": "python",
   "name": "python3"
  },
  "language_info": {
   "codemirror_mode": {
    "name": "ipython",
    "version": 3
   },
   "file_extension": ".py",
   "mimetype": "text/x-python",
   "name": "python",
   "nbconvert_exporter": "python",
   "pygments_lexer": "ipython3",
   "version": "3.13.5"
  }
 },
 "nbformat": 4,
 "nbformat_minor": 5
}
