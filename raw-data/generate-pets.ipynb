{
 "cells": [
  {
   "cell_type": "code",
   "execution_count": null,
   "id": "3b3c7687",
   "metadata": {},
   "outputs": [],
   "source": [
    "import pandas as pd"
   ]
  },
  {
   "cell_type": "code",
   "execution_count": null,
   "id": "b9703116",
   "metadata": {},
   "outputs": [],
   "source": [
    "df = pd.read_csv('PetFinder Dataset.csv')"
   ]
  },
  {
   "cell_type": "code",
   "execution_count": null,
   "id": "a1b10345",
   "metadata": {},
   "outputs": [],
   "source": [
    "df.columns.tolist()"
   ]
  },
  {
   "cell_type": "code",
   "execution_count": null,
   "id": "78dea57f",
   "metadata": {},
   "outputs": [],
   "source": [
    "cols = [\n",
    "    'PetID',\n",
    "    'Type',\n",
    "    'Age',\n",
    "    'Gender',\n",
    "    'MaturitySize', \n",
    "    'FurLength',\n",
    "    'Vaccinated', \n",
    "    'Dewormed', \n",
    "    'Sterilized',\n",
    "    'Health', \n",
    "    'Fee',\n",
    "    'PhotoAmt', \n",
    "    'VideoAmt'\n",
    "]\n",
    "df = df[cols]"
   ]
  },
  {
   "cell_type": "code",
   "execution_count": null,
   "id": "6b2db21c",
   "metadata": {},
   "outputs": [],
   "source": [
    "df = df.rename(columns={\n",
    "    'PetID': 'id',\n",
    "    'Type': 'tipo',\n",
    "    'Age': 'idade_meses',\n",
    "    'Gender': 'genero',\n",
    "    'MaturitySize': 'porte',\n",
    "    'FurLength': 'pelagem',\n",
    "    'Vaccinated': 'vacinado',\n",
    "    'Dewormed': 'vermifugado',\n",
    "    'Sterilized': 'esterilizado',\n",
    "    'Health': 'saude',\n",
    "    'Fee': 'taxa',\n",
    "    'PhotoAmt': 'qtd_fotos',\n",
    "    'VideoAmt': 'qtd_videos'\n",
    "})"
   ]
  },
  {
   "cell_type": "code",
   "execution_count": null,
   "id": "0c72f074",
   "metadata": {},
   "outputs": [],
   "source": [
    "mappings = {\n",
    "    'tipo': {1: 'cachorro', 2: 'gato'},\n",
    "    'genero': {1: 'macho', 2: 'femea', 3: 'indefinido'},\n",
    "    'porte': {1: 'pequeno', 2: 'medio', 3: 'grande', 4: 'extra', 0: 'nao_especificado'},\n",
    "    'pelagem': {1: 'curta', 2: 'media', 3: 'longa', 0: 'nao_especificado'},\n",
    "    'vacinado': {1: 1, 2: 0, 3: pd.NA},\n",
    "    'vermifugado': {1: 1, 2: 0, 3: pd.NA},\n",
    "    'esterilizado': {1: 1, 2: 0, 3: pd.NA},\n",
    "    'saude': {1: 'saudavel', 2: 'lesao_leve', 3: 'lesao_grave', 0: 'nao_especificado'}\n",
    "}\n",
    "for col, m in mappings.items():\n",
    "    df[col] = df[col].map(m)"
   ]
  },
  {
   "cell_type": "code",
   "execution_count": null,
   "id": "9a5589e4",
   "metadata": {},
   "outputs": [],
   "source": [
    "df.head(5)"
   ]
  },
  {
   "cell_type": "code",
   "execution_count": null,
   "id": "d83eba61",
   "metadata": {},
   "outputs": [],
   "source": [
    "df = df.fillna({'vacinado': 0, 'vermifugado': 0, 'esterilizado': 0})"
   ]
  },
  {
   "cell_type": "code",
   "execution_count": null,
   "id": "d5f97f20",
   "metadata": {},
   "outputs": [],
   "source": [
    "df = df.sample(n=200, random_state=42).reset_index(drop=True)"
   ]
  },
  {
   "cell_type": "code",
   "execution_count": null,
   "id": "d6963e14",
   "metadata": {},
   "outputs": [],
   "source": [
    "df.to_csv('pets.csv', index=False, encoding='utf-8-sig')"
   ]
  }
 ],
 "metadata": {
  "kernelspec": {
   "display_name": "pet-adoption",
   "language": "python",
   "name": "python3"
  },
  "language_info": {
   "codemirror_mode": {
    "name": "ipython",
    "version": 3
   },
   "file_extension": ".py",
   "mimetype": "text/x-python",
   "name": "python",
   "nbconvert_exporter": "python",
   "pygments_lexer": "ipython3",
   "version": "3.13.5"
  }
 },
 "nbformat": 4,
 "nbformat_minor": 5
}
