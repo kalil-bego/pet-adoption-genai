{
 "cells": [
  {
   "cell_type": "code",
   "execution_count": 1,
   "id": "fc399d0c",
   "metadata": {},
   "outputs": [],
   "source": [
    "import csv\n",
    "import random\n",
    "from faker import Faker"
   ]
  },
  {
   "cell_type": "code",
   "execution_count": 2,
   "id": "068f4d93",
   "metadata": {},
   "outputs": [],
   "source": [
    "fake = Faker('pt_BR')"
   ]
  },
  {
   "cell_type": "code",
   "execution_count": 3,
   "id": "8be159d6",
   "metadata": {},
   "outputs": [],
   "source": [
    "def generate_adopters(n):\n",
    "    adotantes = []\n",
    "    for i in range(1, n+1):\n",
    "        adotante = {\n",
    "            'id': i,\n",
    "            'nome': fake.name(),\n",
    "            'moradia': random.choice(['apartamento', 'casa']),\n",
    "            'tempo_disponivel_horas': random.randint(1, 8),\n",
    "            'tem_alergia': random.choice([0, 1]),\n",
    "            'tem_crianca': random.choice([0, 1]),\n",
    "            'outros_pets': random.choice([0, 1]),\n",
    "            'prefere_tipo': random.choice(['cachorro', 'gato', 'indiferente']),\n",
    "            'prefere_porte': random.choice(['pequeno', 'medio', 'grande', 'indiferente']),\n",
    "        }\n",
    "        adotantes.append(adotante)\n",
    "    return adotantes"
   ]
  },
  {
   "cell_type": "code",
   "execution_count": 4,
   "id": "b79689ec",
   "metadata": {},
   "outputs": [],
   "source": [
    "def save_to_csv(adotantes, filename='adotantes.csv'):\n",
    "    with open(filename, mode='w', newline='', encoding='utf-8') as f:\n",
    "        writer = csv.DictWriter(f, fieldnames=adotantes[0].keys())\n",
    "        writer.writeheader()\n",
    "        for a in adotantes:\n",
    "            writer.writerow(a)"
   ]
  },
  {
   "cell_type": "code",
   "execution_count": 5,
   "id": "003dedbd",
   "metadata": {},
   "outputs": [],
   "source": [
    "num = 20\n",
    "adotantes = generate_adopters(num)\n",
    "save_to_csv(adotantes)"
   ]
  }
 ],
 "metadata": {
  "kernelspec": {
   "display_name": "pet-adoption",
   "language": "python",
   "name": "python3"
  },
  "language_info": {
   "codemirror_mode": {
    "name": "ipython",
    "version": 3
   },
   "file_extension": ".py",
   "mimetype": "text/x-python",
   "name": "python",
   "nbconvert_exporter": "python",
   "pygments_lexer": "ipython3",
   "version": "3.13.5"
  }
 },
 "nbformat": 4,
 "nbformat_minor": 5
}
